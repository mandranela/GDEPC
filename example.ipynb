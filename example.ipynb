{
 "cells": [
  {
   "cell_type": "markdown",
   "metadata": {},
   "source": [
    "Загружаю датасет"
   ]
  },
  {
   "cell_type": "code",
   "execution_count": 27,
   "metadata": {},
   "outputs": [],
   "source": [
    "from config import *"
   ]
  },
  {
   "cell_type": "code",
   "execution_count": 2,
   "metadata": {},
   "outputs": [
    {
     "name": "stderr",
     "output_type": "stream",
     "text": [
      "C:\\Users\\MANDR\\AppData\\Local\\Temp\\ipykernel_18420\\1903369583.py:6: UserWarning: Could not infer format, so each element will be parsed individually, falling back to `dateutil`. To ensure parsing is consistent and as-expected, please specify a format.\n",
      "  df.Measurement_Timestamp = pd.to_datetime(df.Measurement_Timestamp)\n"
     ]
    },
    {
     "data": {
      "text/plain": [
       "Station_Name                   string[python]\n",
       "Measurement_Timestamp          datetime64[ns]\n",
       "Air_Temperature                       Float64\n",
       "Wet_Bulb_Temperature                  Float64\n",
       "Humidity                                Int64\n",
       "Rain_Intensity                        Float64\n",
       "Interval_Rain                         Float64\n",
       "Total_Rain                            Float64\n",
       "Precipitation_Type                      Int64\n",
       "Wind_Direction                          Int64\n",
       "Wind_Speed                            Float64\n",
       "Maximum_Wind_Speed                    Float64\n",
       "Barometric_Pressure                   Float64\n",
       "Solar_Radiation                         Int64\n",
       "Heading                                 Int64\n",
       "Battery_Life                          Float64\n",
       "Measurement_Timestamp_Label    string[python]\n",
       "Measurement_ID                 string[python]\n",
       "dtype: object"
      ]
     },
     "execution_count": 2,
     "metadata": {},
     "output_type": "execute_result"
    }
   ],
   "source": [
    "import pandas as pd\n",
    "\n",
    "df = pd.read_csv(DATASET_BWSAS_FILE_ABS_PATH)\n",
    "df.rename(columns=lambda x: x.replace(' ', '_'), inplace=True) # Replace spaces with underscores in column names\n",
    "df = df.convert_dtypes()\n",
    "df.Measurement_Timestamp = pd.to_datetime(df.Measurement_Timestamp)\n",
    "df.dtypes\n"
   ]
  },
  {
   "cell_type": "markdown",
   "metadata": {},
   "source": [
    "Динамически создаю .proto файл для него (не работает)"
   ]
  },
  {
   "cell_type": "code",
   "execution_count": 3,
   "metadata": {},
   "outputs": [],
   "source": [
    "import pandas as pd\n",
    "from google.protobuf.descriptor_pb2 import FieldDescriptorProto\n",
    "from google.protobuf.descriptor_pb2 import FileDescriptorProto\n",
    "from google.protobuf.compiler.plugin_pb2 import CodeGeneratorRequest\n",
    "from google.protobuf.compiler.plugin_pb2 import CodeGeneratorResponse\n",
    "\n",
    "def create_protobuf_template(df):\n",
    "    # Create a FileDescriptorProto\n",
    "    file_descriptor_proto = FileDescriptorProto()\n",
    "\n",
    "    # Create a message type for the DataFrame\n",
    "    message_type = file_descriptor_proto.message_type.add()\n",
    "    message_type.name = \"DataFrame\"\n",
    "\n",
    "    # Iterate over the columns of the DataFrame\n",
    "    for column_name, column_type in df.dtypes.items():\n",
    "        # Create a field descriptor for each column\n",
    "        field_descriptor = message_type.field.add()\n",
    "        field_descriptor.name = column_name\n",
    "\n",
    "        # Map Pandas dtype to Protobuf field type\n",
    "        if column_type == \"int64\":\n",
    "            field_descriptor.type = FieldDescriptorProto.TYPE_INT64\n",
    "        elif column_type == \"float64\":\n",
    "            field_descriptor.type = FieldDescriptorProto.TYPE_DOUBLE\n",
    "        elif column_type == \"bool\":\n",
    "            field_descriptor.type = FieldDescriptorProto.TYPE_BOOL\n",
    "        elif column_type == \"object\":\n",
    "            field_descriptor.type = FieldDescriptorProto.TYPE_STRING\n",
    "        elif column_type == \"datetime64[ns]\":\n",
    "            field_descriptor.type = FieldDescriptorProto.TYPE_STRING\n",
    "        else:\n",
    "            field_descriptor.type = FieldDescriptorProto.TYPE_STRING\n",
    "\n",
    "    # Return the serialized FileDescriptorProto\n",
    "    return file_descriptor_proto.SerializeToString()"
   ]
  },
  {
   "cell_type": "code",
   "execution_count": 4,
   "metadata": {},
   "outputs": [
    {
     "name": "stdout",
     "output_type": "stream",
     "text": [
      "b'\"\\x82\\x03\\n\\tDataFrame\\x12\\x10\\n\\x0cStation_Name(\\t\\x12\\x19\\n\\x15Measurement_Timestamp(\\t\\x12\\x13\\n\\x0fAir_Temperature(\\t\\x12\\x18\\n\\x14Wet_Bulb_Temperature(\\t\\x12\\x0c\\n\\x08Humidity(\\t\\x12\\x12\\n\\x0eRain_Intensity(\\t\\x12\\x11\\n\\rInterval_Rain(\\t\\x12\\x0e\\n\\nTotal_Rain(\\t\\x12\\x16\\n\\x12Precipitation_Type(\\t\\x12\\x12\\n\\x0eWind_Direction(\\t\\x12\\x0e\\n\\nWind_Speed(\\t\\x12\\x16\\n\\x12Maximum_Wind_Speed(\\t\\x12\\x17\\n\\x13Barometric_Pressure(\\t\\x12\\x13\\n\\x0fSolar_Radiation(\\t\\x12\\x0b\\n\\x07Heading(\\t\\x12\\x10\\n\\x0cBattery_Life(\\t\\x12\\x1f\\n\\x1bMeasurement_Timestamp_Label(\\t\\x12\\x12\\n\\x0eMeasurement_ID(\\t'\n"
     ]
    }
   ],
   "source": [
    "protobuf_template = create_protobuf_template(df)\n",
    "print(protobuf_template)"
   ]
  },
  {
   "cell_type": "code",
   "execution_count": 6,
   "metadata": {},
   "outputs": [],
   "source": [
    "# Write the byte string to a file.\n",
    "with open(path.join(PROTOS_FOLDER_ABS_PATH, \"protobuf_example.proto\"), \"wb\") as f:\n",
    "    f.write(protobuf_template)"
   ]
  },
  {
   "cell_type": "markdown",
   "metadata": {},
   "source": [
    "Компилирую .proto файл"
   ]
  },
  {
   "cell_type": "code",
   "execution_count": 29,
   "metadata": {},
   "outputs": [
    {
     "ename": "NameError",
     "evalue": "name 'PROTOC_EXE' is not defined",
     "output_type": "error",
     "traceback": [
      "\u001b[1;31m---------------------------------------------------------------------------\u001b[0m",
      "\u001b[1;31mNameError\u001b[0m                                 Traceback (most recent call last)",
      "\u001b[1;32mc:\\Users\\MANDR\\Desktop\\py\\1210\\example.ipynb Cell 9\u001b[0m line \u001b[0;36m5\n\u001b[0;32m      <a href='vscode-notebook-cell:/c%3A/Users/MANDR/Desktop/py/1210/example.ipynb#X11sZmlsZQ%3D%3D?line=0'>1</a>\u001b[0m \u001b[39mimport\u001b[39;00m \u001b[39mos\u001b[39;00m\n\u001b[0;32m      <a href='vscode-notebook-cell:/c%3A/Users/MANDR/Desktop/py/1210/example.ipynb#X11sZmlsZQ%3D%3D?line=2'>3</a>\u001b[0m M_BEACH_PROTO \u001b[39m=\u001b[39m path\u001b[39m.\u001b[39mjoin(PROTOS_FOLDER, \u001b[39m\"\u001b[39m\u001b[39mm_beach.proto\u001b[39m\u001b[39m\"\u001b[39m)\n\u001b[1;32m----> <a href='vscode-notebook-cell:/c%3A/Users/MANDR/Desktop/py/1210/example.ipynb#X11sZmlsZQ%3D%3D?line=4'>5</a>\u001b[0m compile_proto_command \u001b[39m=\u001b[39m \u001b[39mf\u001b[39m\u001b[39m\"\u001b[39m\u001b[39m{\u001b[39;00mPROTOC_EXE\u001b[39m}\u001b[39;00m\u001b[39m --python_out=. \u001b[39m\u001b[39m{\u001b[39;00mM_BEACH_PROTO\u001b[39m}\u001b[39;00m\u001b[39m\"\u001b[39m\n\u001b[0;32m      <a href='vscode-notebook-cell:/c%3A/Users/MANDR/Desktop/py/1210/example.ipynb#X11sZmlsZQ%3D%3D?line=5'>6</a>\u001b[0m os\u001b[39m.\u001b[39msystem(compile_proto_command)\n",
      "\u001b[1;31mNameError\u001b[0m: name 'PROTOC_EXE' is not defined"
     ]
    }
   ],
   "source": [
    "import os\n",
    "\n",
    "M_BEACH_PROTO = path.join(PROTOS_FOLDER, \"m_beach.proto\")\n",
    "\n",
    "compile_proto_command = f\"{PROTOC_EXE} --python_out=. {M_BEACH_PROTO}\"\n",
    "os.system(compile_proto_command)"
   ]
  },
  {
   "cell_type": "markdown",
   "metadata": {},
   "source": [
    "Заполняю сообщение данными"
   ]
  },
  {
   "cell_type": "code",
   "execution_count": 8,
   "metadata": {},
   "outputs": [],
   "source": [
    "def timestamp2unix(timestamp):\n",
    "    seconds = int(timestamp.timestamp())\n",
    "    nanos = int(timestamp.timestamp() % 1 * 1e9)\n",
    "\n",
    "    return (seconds, nanos)"
   ]
  },
  {
   "cell_type": "code",
   "execution_count": 9,
   "metadata": {},
   "outputs": [
    {
     "name": "stdout",
     "output_type": "stream",
     "text": [
      "Station_Name: \"Oak Street Weather Station\"\n",
      "Measurement_Timestamp {\n",
      "  seconds: 1432306800\n",
      "}\n",
      "Wet_Bulb_Temperature: 7\n",
      "Humidity: 55\n",
      "Total_Rain: 1.4\n",
      "Wind_Direction: 63\n",
      "Wind_Speed: 1.9\n",
      "Maximum_Wind_Speed: 2.8\n",
      "Solar_Radiation: 780\n",
      "Heading: 322\n",
      "Battery_Life: 12\n",
      "Measurement_Timestamp_Label: \"05/22/2015 3:00 PM\"\n",
      "Measurement_ID: \"OakStreetWeatherStation201505221500\"\n",
      "\n"
     ]
    }
   ],
   "source": [
    "import protos.m_beach_pb2 as m_beach_pb2\n",
    "\n",
    "m_beach_message = m_beach_pb2.m_beach_message() \n",
    "\n",
    "for field, value in df.to_dict(orient='records')[0].items():\n",
    "    if value is None:\n",
    "        continue\n",
    "    if type(value) is pd.Timestamp:\n",
    "        seconds, nanos = timestamp2unix(value)\n",
    "        setattr(getattr(m_beach_message, field), \"seconds\", seconds)\n",
    "        setattr(getattr(m_beach_message, field), \"nanos\", nanos)\n",
    "    else:\n",
    "        try:\n",
    "            setattr(m_beach_message, field, value)\n",
    "        except Exception as e:\n",
    "            print(f\"Exception: {e} | field: {field} | value: {value}\")\n",
    "\n",
    "print(m_beach_message)\n"
   ]
  },
  {
   "cell_type": "markdown",
   "metadata": {},
   "source": [
    "Сериализую и десериализую"
   ]
  },
  {
   "cell_type": "code",
   "execution_count": 12,
   "metadata": {},
   "outputs": [
    {
     "name": "stdout",
     "output_type": "stream",
     "text": [
      "write as binary\n",
      "read values\n",
      "Station_Name: \"Oak Street Weather Station\"\n",
      "Measurement_Timestamp {\n",
      "  seconds: 1432306800\n",
      "}\n",
      "Wet_Bulb_Temperature: 7\n",
      "Humidity: 55\n",
      "Total_Rain: 1.4\n",
      "Wind_Direction: 63\n",
      "Wind_Speed: 1.9\n",
      "Maximum_Wind_Speed: 2.8\n",
      "Solar_Radiation: 780\n",
      "Heading: 322\n",
      "Battery_Life: 12\n",
      "Measurement_Timestamp_Label: \"05/22/2015 3:00 PM\"\n",
      "Measurement_ID: \"OakStreetWeatherStation201505221500\"\n",
      "\n"
     ]
    }
   ],
   "source": [
    "with open(\"m_beach.bin\", \"wb\") as f:\n",
    "    print(\"write as binary\")\n",
    "    bytesAsString = m_beach_message.SerializeToString()\n",
    "    f.write(bytesAsString)\n",
    "\n",
    "\n",
    "with open(\"m_beach.bin\", \"rb\") as f:\n",
    "    print(\"read values\")\n",
    "    simple_message_read = m_beach_pb2.m_beach_message().FromString(f.read())\n",
    "\n",
    "\n",
    "print(simple_message_read)"
   ]
  },
  {
   "cell_type": "markdown",
   "metadata": {},
   "source": [
    "<hr>\n",
    "\n",
    "ВСЯКОЕ"
   ]
  },
  {
   "cell_type": "code",
   "execution_count": 14,
   "metadata": {},
   "outputs": [
    {
     "data": {
      "text/plain": [
       "['__new__',\n",
       " 'GetOptions',\n",
       " 'CopyToProto',\n",
       " 'EnumValueName',\n",
       " 'name',\n",
       " 'full_name',\n",
       " '_concrete_class',\n",
       " 'file',\n",
       " 'fields',\n",
       " 'fields_by_name',\n",
       " 'fields_by_camelcase_name',\n",
       " 'fields_by_number',\n",
       " 'nested_types',\n",
       " 'nested_types_by_name',\n",
       " 'extensions',\n",
       " 'extensions_by_name',\n",
       " 'extension_ranges',\n",
       " 'enum_types',\n",
       " 'enum_types_by_name',\n",
       " 'enum_values_by_name',\n",
       " 'oneofs_by_name',\n",
       " 'oneofs',\n",
       " 'containing_type',\n",
       " 'is_extendable',\n",
       " 'has_options',\n",
       " 'syntax',\n",
       " '__doc__',\n",
       " '__module__',\n",
       " '__repr__',\n",
       " '__hash__',\n",
       " '__str__',\n",
       " '__getattribute__',\n",
       " '__setattr__',\n",
       " '__delattr__',\n",
       " '__lt__',\n",
       " '__le__',\n",
       " '__eq__',\n",
       " '__ne__',\n",
       " '__gt__',\n",
       " '__ge__',\n",
       " '__init__',\n",
       " '__reduce_ex__',\n",
       " '__reduce__',\n",
       " '__getstate__',\n",
       " '__subclasshook__',\n",
       " '__init_subclass__',\n",
       " '__format__',\n",
       " '__sizeof__',\n",
       " '__dir__',\n",
       " '__class__']"
      ]
     },
     "execution_count": 14,
     "metadata": {},
     "output_type": "execute_result"
    }
   ],
   "source": [
    "m_beach_message.DESCRIPTOR.__dir__()"
   ]
  },
  {
   "cell_type": "code",
   "execution_count": 19,
   "metadata": {},
   "outputs": [
    {
     "name": "stdout",
     "output_type": "stream",
     "text": [
      "['Station_Name', 'Measurement_Timestamp', 'Air_Temperature', 'Wet_Bulb_Temperature', 'Humidity', 'Rain_intensity', 'interval_Rain', 'Total_Rain', 'Precipitation_Type', 'Wind_Direction', 'Wind_Speed', 'Maximum_Wind_Speed', 'Barometric_Pressure', 'Solar_Radiation', 'Heading', 'Battery_Life', 'Measurement_Timestamp_Label', 'Measurement_ID']\n"
     ]
    }
   ],
   "source": [
    "print([field.name for field in m_beach_message.DESCRIPTOR.fields])\n"
   ]
  },
  {
   "cell_type": "code",
   "execution_count": 23,
   "metadata": {},
   "outputs": [
    {
     "data": {
      "text/plain": [
       "{'Station_Name': 'Oak Street Weather Station',\n",
       " 'Measurement_Timestamp': '05/22/2015 03:00:00 PM',\n",
       " 'Air_Temperature': None,\n",
       " 'Wet_Bulb_Temperature': 7.0,\n",
       " 'Humidity': 55,\n",
       " 'Rain_Intensity': 0.0,\n",
       " 'Interval_Rain': 0.0,\n",
       " 'Total_Rain': 1.4,\n",
       " 'Precipitation_Type': 0,\n",
       " 'Wind_Direction': 63,\n",
       " 'Wind_Speed': 1.9,\n",
       " 'Maximum_Wind_Speed': 2.8,\n",
       " 'Barometric_Pressure': None,\n",
       " 'Solar_Radiation': 780,\n",
       " 'Heading': 322,\n",
       " 'Battery_Life': 12.0,\n",
       " 'Measurement_Timestamp_Label': '05/22/2015 3:00 PM',\n",
       " 'Measurement_ID': 'OakStreetWeatherStation201505221500'}"
      ]
     },
     "execution_count": 23,
     "metadata": {},
     "output_type": "execute_result"
    }
   ],
   "source": [
    "df.to_dict(orient='records')[0]"
   ]
  }
 ],
 "metadata": {
  "kernelspec": {
   "display_name": "Python 3",
   "language": "python",
   "name": "python3"
  },
  "language_info": {
   "codemirror_mode": {
    "name": "ipython",
    "version": 3
   },
   "file_extension": ".py",
   "mimetype": "text/x-python",
   "name": "python",
   "nbconvert_exporter": "python",
   "pygments_lexer": "ipython3",
   "version": "3.12.0"
  }
 },
 "nbformat": 4,
 "nbformat_minor": 2
}
